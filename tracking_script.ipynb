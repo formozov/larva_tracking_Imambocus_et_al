{
  "nbformat": 4,
  "nbformat_minor": 0,
  "metadata": {
    "colab": {
      "name": "Tracking script.ipynb",
      "provenance": [],
      "collapsed_sections": []
    },
    "kernelspec": {
      "display_name": "Python 3",
      "name": "python3"
    },
    "language_info": {
      "name": "python"
    }
  },
  "cells": [
    {
      "cell_type": "markdown",
      "metadata": {
        "id": "9_wcyo4NUdgN"
      },
      "source": [
        "### Install pyFIM \n",
        "\n",
        "https://pyfim.readthedocs.io/en/latest/\n",
        "\n",
        "**References**\n",
        "\n",
        "Risse B, Berh D, Otto N, Klämbt C, Jiang X. FIMTrack: An open source tracking and locomotion analysis software for small animals. PLoS Computational Biology. 2017;13(5):e1005530. doi:10.1371/journal.pcbi.1005530.\n",
        "\n",
        "Risse B, Otto N, Berh D, Jiang X, Klämbt C. FIM Imaging and FIMtrack: Two New Tools Allowing High-throughput and Cost Effective Locomotion Analysis. Journal of Visualized Experiments : JoVE. 2014;(94):52207. doi:10.3791/52207.\n",
        "\n",
        "Risse B, Thomas S, Otto N, et al. FIM, a Novel FTIR-Based Imaging Method for High Throughput Locomotion Analysis. PLoS ONE. 2013;8(1):e53963. doi:10.1371/journal.pone.0053963."
      ]
    },
    {
      "cell_type": "code",
      "metadata": {
        "colab": {
          "base_uri": "https://localhost:8080/"
        },
        "id": "3Q-LA4syjax5",
        "outputId": "6d0976d6-17cf-418f-fb94-cf70a3d4b7ef"
      },
      "source": [
        "pip install git+git://github.com/schlegelp/pyfim@master"
      ],
      "execution_count": null,
      "outputs": [
        {
          "output_type": "stream",
          "name": "stdout",
          "text": [
            "Collecting git+git://github.com/schlegelp/pyfim@master\n",
            "  Cloning git://github.com/schlegelp/pyfim (to revision master) to /tmp/pip-req-build-04rour1i\n",
            "  Running command git clone -q git://github.com/schlegelp/pyfim /tmp/pip-req-build-04rour1i\n",
            "Requirement already satisfied: numpy>=1.13.0 in /usr/local/lib/python3.7/dist-packages (from pyfim==0.2) (1.19.5)\n",
            "Requirement already satisfied: matplotlib>=2.0.0 in /usr/local/lib/python3.7/dist-packages (from pyfim==0.2) (3.2.2)\n",
            "Requirement already satisfied: pandas>=0.22.0 in /usr/local/lib/python3.7/dist-packages (from pyfim==0.2) (1.1.5)\n",
            "Requirement already satisfied: tqdm>=4.14.0 in /usr/local/lib/python3.7/dist-packages (from pyfim==0.2) (4.62.3)\n",
            "Requirement already satisfied: peakutils in /usr/local/lib/python3.7/dist-packages (from pyfim==0.2) (1.3.3)\n",
            "Requirement already satisfied: python-dateutil>=2.1 in /usr/local/lib/python3.7/dist-packages (from matplotlib>=2.0.0->pyfim==0.2) (2.8.2)\n",
            "Requirement already satisfied: kiwisolver>=1.0.1 in /usr/local/lib/python3.7/dist-packages (from matplotlib>=2.0.0->pyfim==0.2) (1.3.2)\n",
            "Requirement already satisfied: cycler>=0.10 in /usr/local/lib/python3.7/dist-packages (from matplotlib>=2.0.0->pyfim==0.2) (0.10.0)\n",
            "Requirement already satisfied: pyparsing!=2.0.4,!=2.1.2,!=2.1.6,>=2.0.1 in /usr/local/lib/python3.7/dist-packages (from matplotlib>=2.0.0->pyfim==0.2) (2.4.7)\n",
            "Requirement already satisfied: six in /usr/local/lib/python3.7/dist-packages (from cycler>=0.10->matplotlib>=2.0.0->pyfim==0.2) (1.15.0)\n",
            "Requirement already satisfied: pytz>=2017.2 in /usr/local/lib/python3.7/dist-packages (from pandas>=0.22.0->pyfim==0.2) (2018.9)\n",
            "Requirement already satisfied: scipy in /usr/local/lib/python3.7/dist-packages (from peakutils->pyfim==0.2) (1.4.1)\n"
          ]
        }
      ]
    },
    {
      "cell_type": "markdown",
      "metadata": {
        "id": "_DoOJdBwcDVd"
      },
      "source": [
        "### Load libraries"
      ]
    },
    {
      "cell_type": "code",
      "metadata": {
        "id": "Cltr7ED1jqYp"
      },
      "source": [
        "import pandas as pd\n",
        "import matplotlib.pyplot as plt\n",
        "import seaborn as sns\n",
        "import numpy as np\n",
        "import os\n",
        "\n",
        "import pyfim\n",
        "\n",
        "from google.colab import files\n",
        "\n",
        "from matplotlib.colors import LogNorm\n",
        "from scipy.ndimage.filters import gaussian_filter\n",
        "\n",
        "import pickle"
      ],
      "execution_count": null,
      "outputs": []
    },
    {
      "cell_type": "markdown",
      "metadata": {
        "id": "8N4KqS3-iRhf"
      },
      "source": [
        "### Setup pyFIM"
      ]
    },
    {
      "cell_type": "code",
      "metadata": {
        "id": "zhTewpVDja6X"
      },
      "source": [
        "import pyfim\n",
        "\n",
        "pyfim.defaults['PIXEL_PER_MM'] = 1 #11.5\n",
        "pyfim.defaults['PIXEL2MM'] = True\n",
        "\n",
        "pyfim.defaults['MIN_TRACK_LENGTH'] = 2\n",
        "\n",
        "pyfim.defaults['MAX_GAP_SIZE'] = 3 # default was 3\n",
        "\n",
        "pyfim.defaults['FPS'] = 9.15\n",
        "\n",
        "pyfim.defaults['MIN_STOP_PHASE'] = 5 # default 5\n",
        "\n",
        "pyfim.defaults['BENDING_ANGLE_THRESHOLD'] = 1\n",
        "\n",
        "pyfim.defaults['CUT_TABLE_HEAD'] = 0\n",
        "pyfim.defaults['CUT_TABLE_TAIL'] = 0\n",
        "\n",
        "pyfim.defaults['TC_CUT_HEAD'] = 0"
      ],
      "execution_count": null,
      "outputs": []
    },
    {
      "cell_type": "markdown",
      "metadata": {
        "id": "n9PfifIoUNRh"
      },
      "source": [
        "### Upload data"
      ]
    },
    {
      "cell_type": "code",
      "metadata": {
        "colab": {
          "base_uri": "https://localhost:8080/",
          "height": 605
        },
        "id": "12E3TJMQ79bY",
        "outputId": "cae6ea13-e19e-4016-82db-a423adc05cc3"
      },
      "source": [
        "#OK\n",
        "!wget --no-check-certificate 'https://docs.google.com/uc?export=download&id=1QFoP63iVjUJZwGq8HWOXBc6x8FX6DeFO' -O \"wt.zip\"\n",
        "!unzip \"wt.zip\"\n",
        "\n",
        "#OK\n",
        "!wget --no-check-certificate 'https://docs.google.com/uc?export=download&id=1xfxnOY4POX6NAHSYAukVj91ZE9M2MuHs' -O \"ilp7ko-8tracks2.zip\"\n",
        "!unzip \"ilp7ko-8tracks2.zip\"\n",
        "\n",
        "\n",
        "#OK\n",
        "!wget --no-check-certificate 'https://docs.google.com/uc?export=download&id=1sl7aDma8bnitVMixABQ_SXm5hXMG0G53' -O \"kirxilp7gal4_tracks.zip\"\n",
        "!unzip \"kirxilp7gal4_tracks.zip\"\n",
        "\n",
        "#OK\n",
        "!wget --no-check-certificate 'https://docs.google.com/uc?export=download&id=19-WSoPzn3WSUgXh1zVl6b_FPiz038O4P' -O \"kirxLkgal4_tracks.zip\"\n",
        "!unzip \"kirxLkgal4_tracks.zip\"\n",
        "\n",
        "# OK\n",
        "!wget --no-check-certificate 'https://docs.google.com/uc?export=download&id=1KQLeNPifeOoi9lI00EOynczSfc2jl5lS' -O \"wtxkir.zip\"\n",
        "!unzip \"wtxkir.zip\"\n",
        "\n",
        "#OK\n",
        "!wget --no-check-certificate 'https://docs.google.com/uc?export=download&id=1rkL2gao7SBS_DoEuCdT-TOfySNmERUxk' -O \"kirx73bo1gal4-8tracks.zip\"\n",
        "!unzip \"kirx73bo1gal4-8tracks.zip\""
      ],
      "execution_count": null,
      "outputs": [
        {
          "output_type": "stream",
          "name": "stdout",
          "text": [
            "--2021-10-04 15:10:50--  https://docs.google.com/uc?export=download&id=1QFoP63iVjUJZwGq8HWOXBc6x8FX6DeFO\n",
            "Resolving docs.google.com (docs.google.com)... 74.125.137.100, 74.125.137.102, 74.125.137.139, ...\n",
            "Connecting to docs.google.com (docs.google.com)|74.125.137.100|:443... connected.\n",
            "HTTP request sent, awaiting response... ^C\n",
            "Archive:  wt.zip\n",
            "  End-of-central-directory signature not found.  Either this file is not\n",
            "  a zipfile, or it constitutes one disk of a multi-part archive.  In the\n",
            "  latter case the central directory and zipfile comment will be found on\n",
            "  the last disk(s) of this archive.\n",
            "unzip:  cannot find zipfile directory in one of wt.zip or\n",
            "        wt.zip.zip, and cannot find wt.zip.ZIP, period.\n",
            "--2021-10-04 15:10:51--  https://docs.google.com/uc?export=download&id=1xfxnOY4POX6NAHSYAukVj91ZE9M2MuHs\n",
            "Resolving docs.google.com (docs.google.com)... 142.250.141.102, 142.250.141.113, 142.250.141.101, ...\n",
            "Connecting to docs.google.com (docs.google.com)|142.250.141.102|:443... connected.\n",
            "HTTP request sent, awaiting response... ^C\n",
            "Archive:  ilp7ko-8tracks2.zip\n",
            "  End-of-central-directory signature not found.  Either this file is not\n",
            "  a zipfile, or it constitutes one disk of a multi-part archive.  In the\n",
            "  latter case the central directory and zipfile comment will be found on\n",
            "  the last disk(s) of this archive.\n",
            "unzip:  cannot find zipfile directory in one of ilp7ko-8tracks2.zip or\n",
            "        ilp7ko-8tracks2.zip.zip, and cannot find ilp7ko-8tracks2.zip.ZIP, period.\n"
          ]
        },
        {
          "output_type": "error",
          "ename": "NameError",
          "evalue": "ignored",
          "traceback": [
            "\u001b[0;31m---------------------------------------------------------------------------\u001b[0m",
            "\u001b[0;31mNameError\u001b[0m                                 Traceback (most recent call last)",
            "\u001b[0;32m<ipython-input-96-8646ccbc7528>\u001b[0m in \u001b[0;36m<module>\u001b[0;34m()\u001b[0m\n\u001b[1;32m      8\u001b[0m \u001b[0;34m\u001b[0m\u001b[0m\n\u001b[1;32m      9\u001b[0m \u001b[0;34m\u001b[0m\u001b[0m\n\u001b[0;32m---> 10\u001b[0;31m \u001b[0mN\u001b[0m\u001b[0;34m\u001b[0m\u001b[0;34m\u001b[0m\u001b[0m\n\u001b[0m\u001b[1;32m     11\u001b[0m \u001b[0;34m\u001b[0m\u001b[0m\n\u001b[1;32m     12\u001b[0m \u001b[0;31m#OK\u001b[0m\u001b[0;34m\u001b[0m\u001b[0;34m\u001b[0m\u001b[0;34m\u001b[0m\u001b[0m\n",
            "\u001b[0;31mNameError\u001b[0m: name 'N' is not defined"
          ]
        }
      ]
    },
    {
      "cell_type": "markdown",
      "metadata": {
        "id": "8Fei_Qjaqx5S"
      },
      "source": [
        "### pyFIM experiment exptraction"
      ]
    },
    {
      "cell_type": "code",
      "metadata": {
        "id": "UJnRVkgkq06H",
        "colab": {
          "base_uri": "https://localhost:8080/"
        },
        "outputId": "4b6adf72-548c-4468-e006-dce3976f1db6"
      },
      "source": [
        "exps = {}\n",
        "\n",
        "fly_lines = ['wt-8_tracks', 'ilp7ko-8tracks2', 'wtxkir-8_tracks', 'kirx73bo1gal4-8tracks', 'kirxilp7gal4_tracks', 'kirxLkgal4_tracks']\n",
        "\n",
        "for k, fly_line in enumerate(fly_lines):\n",
        " \n",
        "    for i, file in enumerate(os.listdir('./' + fly_line + '/')):\n",
        "      folder = (os.listdir('./' + fly_line + '/' + file))[0]\n",
        "      file_path = './' + fly_line + '/' + file + '/' + folder + \"/table.csv\"   \n",
        "      exp = pyfim.Experiment(file_path)\n",
        "      key = fly_line + '_' + str(i)\n",
        "      exps[key]=exp"
      ],
      "execution_count": null,
      "outputs": [
        {
          "output_type": "stream",
          "name": "stderr",
          "text": [
            "INFO  : Data clean-up dropped 433 objects and 0 frames (pyfim)\n",
            "INFO  : Data clean-up dropped 132 objects and 0 frames (pyfim)\n",
            "INFO  : Data clean-up dropped 613 objects and 0 frames (pyfim)\n",
            "INFO  : Data clean-up dropped 59 objects and 0 frames (pyfim)\n",
            "INFO  : Data clean-up dropped 315 objects and 0 frames (pyfim)\n",
            "INFO  : Data clean-up dropped 155 objects and 0 frames (pyfim)\n",
            "INFO  : Data clean-up dropped 45 objects and 0 frames (pyfim)\n",
            "INFO  : Data clean-up dropped 72 objects and 0 frames (pyfim)\n",
            "INFO  : Data clean-up dropped 136 objects and 0 frames (pyfim)\n",
            "INFO  : Data clean-up dropped 173 objects and 0 frames (pyfim)\n",
            "INFO  : Data clean-up dropped 18 objects and 0 frames (pyfim)\n",
            "INFO  : Data clean-up dropped 128 objects and 0 frames (pyfim)\n",
            "INFO  : Data clean-up dropped 52 objects and 0 frames (pyfim)\n",
            "INFO  : Data clean-up dropped 242 objects and 0 frames (pyfim)\n",
            "INFO  : Data clean-up dropped 139 objects and 0 frames (pyfim)\n",
            "INFO  : Data clean-up dropped 123 objects and 0 frames (pyfim)\n",
            "INFO  : Data clean-up dropped 88 objects and 0 frames (pyfim)\n",
            "INFO  : Data clean-up dropped 466 objects and 0 frames (pyfim)\n",
            "INFO  : Data clean-up dropped 487 objects and 0 frames (pyfim)\n",
            "INFO  : Data clean-up dropped 337 objects and 0 frames (pyfim)\n",
            "INFO  : Data clean-up dropped 164 objects and 0 frames (pyfim)\n",
            "Performing additional analyses:   0%|          | 0/7 [00:00<?, ?it/s]/usr/local/lib/python3.7/dist-packages/numpy/core/fromnumeric.py:3373: RuntimeWarning: Mean of empty slice.\n",
            "  out=out, **kwargs)\n",
            "/usr/local/lib/python3.7/dist-packages/numpy/core/_methods.py:170: RuntimeWarning: invalid value encountered in double_scalars\n",
            "  ret = ret.dtype.type(ret / rcount)\n",
            "INFO  : Data clean-up dropped 273 objects and 0 frames (pyfim)\n",
            "INFO  : Data clean-up dropped 58 objects and 0 frames (pyfim)\n",
            "Performing additional analyses:   0%|          | 0/7 [00:00<?, ?it/s]/usr/local/lib/python3.7/dist-packages/numpy/core/fromnumeric.py:3373: RuntimeWarning: Mean of empty slice.\n",
            "  out=out, **kwargs)\n",
            "/usr/local/lib/python3.7/dist-packages/numpy/core/_methods.py:170: RuntimeWarning: invalid value encountered in double_scalars\n",
            "  ret = ret.dtype.type(ret / rcount)\n",
            "INFO  : Data clean-up dropped 123 objects and 0 frames (pyfim)\n",
            "INFO  : Data clean-up dropped 20 objects and 0 frames (pyfim)\n",
            "INFO  : Data clean-up dropped 95 objects and 0 frames (pyfim)\n",
            "INFO  : Data clean-up dropped 501 objects and 0 frames (pyfim)\n",
            "INFO  : Data clean-up dropped 261 objects and 0 frames (pyfim)\n",
            "INFO  : Data clean-up dropped 350 objects and 0 frames (pyfim)\n",
            "INFO  : Data clean-up dropped 110 objects and 0 frames (pyfim)\n",
            "INFO  : Data clean-up dropped 790 objects and 0 frames (pyfim)\n",
            "INFO  : Data clean-up dropped 119 objects and 0 frames (pyfim)\n",
            "INFO  : Data clean-up dropped 119 objects and 0 frames (pyfim)\n",
            "INFO  : Data clean-up dropped 238 objects and 0 frames (pyfim)\n",
            "Performing additional analyses:   0%|          | 0/7 [00:00<?, ?it/s]/usr/local/lib/python3.7/dist-packages/numpy/core/fromnumeric.py:3373: RuntimeWarning: Mean of empty slice.\n",
            "  out=out, **kwargs)\n",
            "/usr/local/lib/python3.7/dist-packages/numpy/core/_methods.py:170: RuntimeWarning: invalid value encountered in double_scalars\n",
            "  ret = ret.dtype.type(ret / rcount)\n",
            "/usr/local/lib/python3.7/dist-packages/numpy/core/fromnumeric.py:3373: RuntimeWarning: Mean of empty slice.\n",
            "  out=out, **kwargs)\n",
            "/usr/local/lib/python3.7/dist-packages/numpy/core/_methods.py:170: RuntimeWarning: invalid value encountered in double_scalars\n",
            "  ret = ret.dtype.type(ret / rcount)\n",
            "INFO  : Data clean-up dropped 42 objects and 0 frames (pyfim)\n",
            "INFO  : Data clean-up dropped 67 objects and 0 frames (pyfim)\n",
            "INFO  : Data clean-up dropped 176 objects and 0 frames (pyfim)\n",
            "INFO  : Data clean-up dropped 109 objects and 0 frames (pyfim)\n",
            "INFO  : Data clean-up dropped 108 objects and 0 frames (pyfim)\n",
            "INFO  : Data clean-up dropped 109 objects and 0 frames (pyfim)\n",
            "INFO  : Data clean-up dropped 88 objects and 0 frames (pyfim)\n",
            "INFO  : Data clean-up dropped 90 objects and 0 frames (pyfim)\n",
            "INFO  : Data clean-up dropped 88 objects and 0 frames (pyfim)\n",
            "INFO  : Data clean-up dropped 81 objects and 0 frames (pyfim)\n",
            "INFO  : Data clean-up dropped 130 objects and 0 frames (pyfim)\n",
            "INFO  : Data clean-up dropped 253 objects and 0 frames (pyfim)\n",
            "Performing additional analyses:   0%|          | 0/7 [00:00<?, ?it/s]/usr/local/lib/python3.7/dist-packages/numpy/core/fromnumeric.py:3373: RuntimeWarning: Mean of empty slice.\n",
            "  out=out, **kwargs)\n",
            "/usr/local/lib/python3.7/dist-packages/numpy/core/_methods.py:170: RuntimeWarning: invalid value encountered in double_scalars\n",
            "  ret = ret.dtype.type(ret / rcount)\n",
            "INFO  : Data clean-up dropped 129 objects and 0 frames (pyfim)\n",
            "INFO  : Data clean-up dropped 103 objects and 0 frames (pyfim)\n",
            "INFO  : Data clean-up dropped 177 objects and 0 frames (pyfim)\n"
          ]
        }
      ]
    },
    {
      "cell_type": "markdown",
      "metadata": {
        "id": "sITxleJ8cuYJ"
      },
      "source": [
        "### Build a Pandas' dataframe and plot experiments"
      ]
    },
    {
      "cell_type": "code",
      "metadata": {
        "id": "g5-y4yV16GRz",
        "colab": {
          "base_uri": "https://localhost:8080/",
          "height": 1000
        },
        "outputId": "b8b94718-2bda-4826-9f4c-0026c4632ddd"
      },
      "source": [
        "plt.rcParams[\"figure.figsize\"] = (4,4)\n",
        "\n",
        "df = pd.DataFrame(columns=['line','recording','x_max','x_min','odor_zone_time','no_odor_zone_time','total_time' ,'fraction_odor','fraction_noodor','PI'])\n",
        "\n",
        "fly_lines = ['wt-8_tracks', 'ilp7ko-8tracks2', 'wtxkir-8_tracks', 'kirx73bo1gal4-8tracks', 'kirxilp7gal4_tracks', 'kirxLkgal4_tracks']\n",
        "\n",
        "rm_nan = lambda x: x[~np.isnan(x)]\n",
        "\n",
        "for k, fly_line in enumerate(fly_lines):\n",
        " \n",
        "    for i, file in enumerate(os.listdir('./' + fly_line + '/')):\n",
        "      folder = (os.listdir('./' + fly_line + '/' + file))[0]\n",
        "      file_path = './' + fly_line + '/' + file + '/' + folder + \"/table.csv\"   \n",
        "      key = fly_line + '_' + str(i)\n",
        "\n",
        "      print(key)\n",
        "\n",
        "      print(file)\n",
        "\n",
        "      framerange = -1200\n",
        "\n",
        "      odor_y_postion = 628 #odor position 975,628  pm 200\n",
        "\n",
        "      x_min = np.min( rm_nan( exps[key].spinepoint_2_x.iloc[-framerange:,:].to_numpy() ) )\n",
        "      x_max = np.max( rm_nan(exps[key].spinepoint_2_x.iloc[-framerange:,:].to_numpy()))\n",
        "      print(\"x_max\", x_max)\n",
        "      print(\"x_min\", x_min)\n",
        "\n",
        "      spinepoint_2_x_noodor_zone = (exps[key].spinepoint_2_x.iloc[-framerange:,:] < 310)\n",
        "      spinepoint_2_x_odor_zone = (exps[key].spinepoint_2_x.iloc[-framerange:,:] > 840)\n",
        "\n",
        "      top = (exps[key].spinepoint_2_y.iloc[-framerange:,:] < odor_y_postion+300)\n",
        "      down = (exps[key].spinepoint_2_y.iloc[-framerange:,:] > odor_y_postion-300)\n",
        "\n",
        "      odor = np.count_nonzero(rm_nan(spinepoint_2_x_odor_zone&top&down))\n",
        "      no_odor = np.count_nonzero(rm_nan(spinepoint_2_x_noodor_zone&top&down))\n",
        "\n",
        "      print(\"time in odor zone: %.2f\" % odor )\n",
        "      print(\"time in non-odor zone: %.2f\" % no_odor)\n",
        "\n",
        "      total_time =  np.count_nonzero(rm_nan(exps[key].spinepoint_2_x.iloc[-framerange:,:]))\n",
        "\n",
        "      print(\"total time: %.2f\" % total_time)\n",
        "      fraction_odor = odor/total_time\n",
        "      print(\"time in odor zone to total: %.2f\" % (odor/total_time))\n",
        "      fraction_noodor = no_odor/total_time\n",
        "      print(\"time in no odor zone to total: %.2f\" % (no_odor/total_time))\n",
        "      PI = (odor-no_odor)/(odor+no_odor)\n",
        "      print(\"PI: %.2f\" % ((odor-no_odor)/(odor+no_odor)))\n",
        "\n",
        "      exps[key].plot_tracks()\n",
        "      plt.title(key)  \n",
        "      plt.show()\n",
        "\n",
        "      df = df.append({'line':fly_line,'recording':i,'x_max':x_max,'x_min':x_min,'odor_zone_time':odor,'no_odor_zone_time':no_odor ,'total_time':total_time ,'fraction_odor':fraction_odor,'fraction_noodor':fraction_noodor,'PI':PI}, ignore_index=True)"
      ],
      "execution_count": null,
      "outputs": [
        {
          "output_type": "stream",
          "name": "stdout",
          "text": [
            "wt-8_tracks_0\n",
            "wt-ethyl-B-125mM_27-06-21-v2\n",
            "x_max 974.0\n",
            "x_min 335.0\n",
            "time in odor zone: 1202.00\n",
            "time in non-odor zone: 0.00\n",
            "total time: 12344.00\n",
            "time in odor zone to total: 0.10\n",
            "time in no odor zone to total: 0.00\n",
            "PI: 1.00\n"
          ]
        },
        {
          "output_type": "display_data",
          "data": {
            "image/png": "[encoded data removed]",
            "text/plain": [
              "<Figure size 288x288 with 1 Axes>"
            ]
          },
          "metadata": {
            "needs_background": "light"
          }
        },
        {
          "output_type": "stream",
          "name": "stdout",
          "text": [
            "wt-8_tracks_1\n",
            "wt-ethyl-B-125mM_27-06-21-v6\n",
            "x_max 905.0\n",
            "x_min 246.0\n",
            "time in odor zone: 247.00\n",
            "time in non-odor zone: 166.00\n",
            "total time: 10801.00\n",
            "time in odor zone to total: 0.02\n",
            "time in no odor zone to total: 0.02\n",
            "PI: 0.20\n"
          ]
        },
        {
          "output_type": "display_data",
          "data": {
            "image/png": "[encoded data removed]",
            "text/plain": [
              "<Figure size 288x288 with 1 Axes>"
            ]
          },
          "metadata": {
            "needs_background": "light"
          }
        },
        {
          "output_type": "stream",
          "name": "stdout",
          "text": [
            "wt-8_tracks_2\n",
            "wt-ethyl-B-125mM_27-06-21-v4\n",
            "x_max 801.0\n",
            "x_min 562.0\n",
            "time in odor zone: 0.00\n",
            "time in non-odor zone: 0.00\n",
            "total time: 3086.00\n",
            "time in odor zone to total: 0.00\n",
            "time in no odor zone to total: 0.00\n"
          ]
        },
        {
          "output_type": "error",
          "ename": "ZeroDivisionError",
          "evalue": "ignored",
          "traceback": [
            "\u001b[0;31m---------------------------------------------------------------------------\u001b[0m",
            "\u001b[0;31mZeroDivisionError\u001b[0m                         Traceback (most recent call last)",
            "\u001b[0;32m<ipython-input-6-714937afaa35>\u001b[0m in \u001b[0;36m<module>\u001b[0;34m()\u001b[0m\n\u001b[1;32m     46\u001b[0m       \u001b[0mfraction_noodor\u001b[0m \u001b[0;34m=\u001b[0m \u001b[0mno_odor\u001b[0m\u001b[0;34m/\u001b[0m\u001b[0mtotal_time\u001b[0m\u001b[0;34m\u001b[0m\u001b[0;34m\u001b[0m\u001b[0m\n\u001b[1;32m     47\u001b[0m       \u001b[0mprint\u001b[0m\u001b[0;34m(\u001b[0m\u001b[0;34m\"time in no odor zone to total: %.2f\"\u001b[0m \u001b[0;34m%\u001b[0m \u001b[0;34m(\u001b[0m\u001b[0mno_odor\u001b[0m\u001b[0;34m/\u001b[0m\u001b[0mtotal_time\u001b[0m\u001b[0;34m)\u001b[0m\u001b[0;34m)\u001b[0m\u001b[0;34m\u001b[0m\u001b[0;34m\u001b[0m\u001b[0m\n\u001b[0;32m---> 48\u001b[0;31m       \u001b[0mPI\u001b[0m \u001b[0;34m=\u001b[0m \u001b[0;34m(\u001b[0m\u001b[0modor\u001b[0m\u001b[0;34m-\u001b[0m\u001b[0mno_odor\u001b[0m\u001b[0;34m)\u001b[0m\u001b[0;34m/\u001b[0m\u001b[0;34m(\u001b[0m\u001b[0modor\u001b[0m\u001b[0;34m+\u001b[0m\u001b[0mno_odor\u001b[0m\u001b[0;34m)\u001b[0m\u001b[0;34m\u001b[0m\u001b[0;34m\u001b[0m\u001b[0m\n\u001b[0m\u001b[1;32m     49\u001b[0m       \u001b[0mprint\u001b[0m\u001b[0;34m(\u001b[0m\u001b[0;34m\"PI: %.2f\"\u001b[0m \u001b[0;34m%\u001b[0m \u001b[0;34m(\u001b[0m\u001b[0;34m(\u001b[0m\u001b[0modor\u001b[0m\u001b[0;34m-\u001b[0m\u001b[0mno_odor\u001b[0m\u001b[0;34m)\u001b[0m\u001b[0;34m/\u001b[0m\u001b[0;34m(\u001b[0m\u001b[0modor\u001b[0m\u001b[0;34m+\u001b[0m\u001b[0mno_odor\u001b[0m\u001b[0;34m)\u001b[0m\u001b[0;34m)\u001b[0m\u001b[0;34m)\u001b[0m\u001b[0;34m\u001b[0m\u001b[0;34m\u001b[0m\u001b[0m\n\u001b[1;32m     50\u001b[0m \u001b[0;34m\u001b[0m\u001b[0m\n",
            "\u001b[0;31mZeroDivisionError\u001b[0m: division by zero"
          ]
        }
      ]
    },
    {
      "cell_type": "markdown",
      "metadata": {
        "id": "hY1UqGwEYa56"
      },
      "source": [
        "#WT x KIR"
      ]
    },
    {
      "cell_type": "code",
      "metadata": {
        "id": "rKGCssXqOiXD"
      },
      "source": [
        "sns.set_context(\"talk\", font_scale=1.1)\n",
        "plt.figure(figsize=(14,6))\n",
        "\n",
        "sns.violinplot(x=\"line\", y=\"PI\", data=df[(df.line == 'wtxkir-8_tracks')|(df.line == 'kirx73bo1gal4-8tracks')|(df.line == 'kirxilp7gal4_tracks')|(df.line == 'kirxLkgal4_tracks') ], inner=None, cut=0.0, alpha=0.7, width=0.5)\n",
        "sns.stripplot(x=\"line\", y=\"PI\",  data=df[(df.line == 'wtxkir-8_tracks')|(df.line == 'kirx73bo1gal4-8tracks')|(df.line == 'kirxilp7gal4_tracks')|(df.line == 'kirxLkgal4_tracks') ],color=\"black\", edgecolor=\"gray\",size=8,jitter=0.1)\n",
        "#sns.catplot(x=\"line\", y=\"PI\", data=df[(df.line == 'wt-8_tracks')|(df.line == 'ilp7ko-8tracks2')])\n",
        "\n",
        "# statistical annotation\n",
        "x1, x2 = 0, 1   # columns 'Sat' and 'Sun' (first column: 0, see plt.xticks())\n",
        "y, h, col = 1 + 0.2, 0.1, 'k'\n",
        "plt.plot([x1, x1, x2, x2], [y, y+h, y+h, y], lw=1.5, c=col)\n",
        "plt.text((x1+x2)*.5, y+h, \"n.s.\", ha='center', va='bottom', color=col)\n",
        "\n",
        "x1, x2 = 0, 2   # columns 'Sat' and 'Sun' (first column: 0, see plt.xticks())\n",
        "y, h, col = 1 + 0.4, 0.1, 'k'\n",
        "plt.plot([x1, x1, x2, x2], [y, y+h, y+h, y], lw=1.5, c=col)\n",
        "plt.text((x1+x2)*.5, y+h, \"n.s.\", ha='center', va='bottom', color=col)\n",
        "\n",
        "x1, x2 = 0, 3   # columns 'Sat' and 'Sun' (first column: 0, see plt.xticks())\n",
        "y, h, col = 1 + 0.6, 0.1, 'k'\n",
        "plt.plot([x1, x1, x2, x2], [y, y+h, y+h, y], lw=1.5, c=col)\n",
        "plt.text((x1+x2)*.5, y+h, \"*\", ha='center', va='bottom', color=col)\n",
        "\n",
        "plt.ylim([-1.0, 2.0])\n",
        "\n",
        "plt.savefig(\"KIR-PI.svg\")\n",
        "\n",
        "plt.show()\n",
        "\n"
      ],
      "execution_count": null,
      "outputs": []
    },
    {
      "cell_type": "code",
      "metadata": {
        "id": "iBKm6Y6BdpKN"
      },
      "source": [
        "from scipy import stats\n",
        "\n",
        "#Tukey's range tes is applied for the consistency with the rest of the work. \n",
        "#Note: strictly speaking the distribution for high PI is not normally distributed and its variance may also vary.\n",
        "\n",
        "from statsmodels.stats.multicomp import (pairwise_tukeyhsd,\n",
        "                                         MultiComparison)\n",
        "\n",
        "#https://jpktd.blogspot.com/2013/03/multiple-comparison-and-tukey-hsd-or_25.html\n",
        "#https://stackoverflow.com/questions/36578458/how-does-one-insert-statistical-annotations-stars-or-p-values-into-matplotlib/37518947\n",
        "\n",
        "print('*******************')\n",
        "print('***Tukey\\'s test***')\n",
        "print('*******************')\n",
        "\n",
        "for p in ['PI']:\n",
        "\n",
        "  print(\"Parameter:\", p, '\\n')\n",
        "  \n",
        "  ###\n",
        "  \n",
        "  cat1 = df[(df.line == 'wtxkir-8_tracks')].PI.to_numpy()\n",
        "  print(cat1)\n",
        "  cat2 = df[(df.line == 'kirx73bo1gal4-8tracks')].PI.to_numpy()\n",
        "  print(cat2)\n",
        "\n",
        "  data = np.concatenate((cat1, cat2))\n",
        "  groups = np.concatenate([ ['WT']*cat1.shape[0], ['kirx73bo1gal4']*cat2.shape[0] ])\n",
        "  res2 = pairwise_tukeyhsd(data, groups, 0.05)\n",
        "  print(res2)\n",
        "\n",
        "  ### \n",
        "\n",
        "  print(\"\\n \\n\")\n",
        "\n",
        "  cat1 = df[(df.line == 'wtxkir-8_tracks')].PI.to_numpy()\n",
        "  print(cat1)\n",
        "  cat2 = df[(df.line == 'kirxilp7gal4_tracks')].PI.to_numpy()  #kirxilp7gal4_tracks\n",
        "  print(cat2)\n",
        "\n",
        "  data = np.concatenate((cat1, cat2))\n",
        "  groups = np.concatenate([ ['WT']*cat1.shape[0], ['kirxilp7gal4']*cat2.shape[0] ])\n",
        "  res2 = pairwise_tukeyhsd(data, groups, 0.05)\n",
        "  print(res2)\n",
        "\n",
        "  ###\n",
        "  \n",
        "  print(\"\\n \\n\")\n",
        "\n",
        "  cat1 = df[(df.line == 'wtxkir-8_tracks')].PI.to_numpy()\n",
        "  print(cat1)\n",
        "  cat2 = df[(df.line == 'kirxLkgal4_tracks')].PI.to_numpy()\n",
        "  print(cat2)\n",
        "\n",
        "  data = np.concatenate((cat1, cat2))\n",
        "  groups = np.concatenate([ ['WT']*cat1.shape[0], ['kirxLkgal4']*cat2.shape[0] ])\n",
        "  res2 = pairwise_tukeyhsd(data, groups, 0.05)\n",
        "  print(res2)"
      ],
      "execution_count": null,
      "outputs": []
    },
    {
      "cell_type": "markdown",
      "metadata": {
        "id": "QR5gZy8kgQVb"
      },
      "source": [
        "# WT vs ilp4ko"
      ]
    },
    {
      "cell_type": "code",
      "metadata": {
        "id": "ySOu7Jes5oyQ"
      },
      "source": [
        "sns.set_context(\"talk\", font_scale=1.1)\n",
        "plt.figure(figsize=(4,6))\n",
        "\n",
        "sns.violinplot(x=\"line\", y=\"PI\", data=df[(df.line == 'wt-8_tracks')|(df.line == 'ilp7ko-8tracks2')], inner=None, cut=0.1, alpha=0.5, width=0.3)\n",
        "sns.stripplot(x=\"line\", y=\"PI\", data=df[(df.line == 'wt-8_tracks')|(df.line == 'ilp7ko-8tracks2')],color=\"black\", edgecolor=\"gray\",size=8,jitter=0.05)\n",
        "#sns.catplot(x=\"line\", y=\"PI\", data=df[(df.line == 'wt-8_tracks')|(df.line == 'ilp7ko-8tracks2')])\n",
        "\n",
        "\n",
        "# statistical annotation\n",
        "x1, x2 = 0, 1   # columns 'Sat' and 'Sun' (first column: 0, see plt.xticks())\n",
        "y, h, col = df[(df.line == 'wt-8_tracks')|(df.line == 'ilp7ko-8tracks2')]['PI'].max() + 0.2, 0.1, 'k'\n",
        "plt.plot([x1, x1, x2, x2], [y, y+h, y+h, y], lw=1.5, c=col)\n",
        "plt.text((x1+x2)*.5, y+h, \"n.s.\", ha='center', va='bottom', color=col)\n",
        "\n",
        "plt.ylim([-1, 2])\n",
        "\n",
        "plt.savefig(\"Ilp7ko-PI.svg\")\n",
        "\n",
        "plt.show()"
      ],
      "execution_count": null,
      "outputs": []
    },
    {
      "cell_type": "code",
      "metadata": {
        "id": "aMmfiW38gG9Y",
        "colab": {
          "base_uri": "https://localhost:8080/",
          "height": 350
        },
        "outputId": "be3dfeb8-bc27-4fdb-e0b6-9a33826f6b9f"
      },
      "source": [
        "from scipy import stats\n",
        "\n",
        "from statsmodels.stats.multicomp import (pairwise_tukeyhsd,\n",
        "                                         MultiComparison)\n",
        "\n",
        "print('*******************')\n",
        "print('***Tukey\\'s test***')\n",
        "print('*******************')\n",
        "\n",
        "for p in ['PI']:\n",
        "\n",
        "  print(\"Parameter:\", p, '\\n')\n",
        "\n",
        "  cat1 = df[(df.line == 'wt-8_tracks')].PI.to_numpy()\n",
        "  print(cat1)\n",
        "  cat2 = df[(df.line == 'ilp7ko-8tracks2')].PI.to_numpy()\n",
        "  print(cat2)\n",
        "\n",
        "  data = np.concatenate((cat1, cat2))\n",
        "  groups = np.concatenate([ ['WT']*cat1.shape[0], ['ilp7ko']*cat2.shape[0] ])\n",
        "  res2 = pairwise_tukeyhsd(data, groups,0.05)\n",
        "  print(res2)"
      ],
      "execution_count": null,
      "outputs": [
        {
          "output_type": "stream",
          "name": "stdout",
          "text": [
            "*******************\n",
            "***Tukey's test***\n",
            "*******************\n",
            "Parameter: PI \n",
            "\n"
          ]
        },
        {
          "output_type": "stream",
          "name": "stderr",
          "text": [
            "/usr/local/lib/python3.7/dist-packages/statsmodels/tools/_testing.py:19: FutureWarning: pandas.util.testing is deprecated. Use the functions in the public API at pandas.testing instead.\n",
            "  import pandas.util.testing as tm\n"
          ]
        },
        {
          "output_type": "error",
          "ename": "NameError",
          "evalue": "ignored",
          "traceback": [
            "\u001b[0;31m---------------------------------------------------------------------------\u001b[0m",
            "\u001b[0;31mNameError\u001b[0m                                 Traceback (most recent call last)",
            "\u001b[0;32m<ipython-input-5-40ebc42cc754>\u001b[0m in \u001b[0;36m<module>\u001b[0;34m()\u001b[0m\n\u001b[1;32m     12\u001b[0m   \u001b[0mprint\u001b[0m\u001b[0;34m(\u001b[0m\u001b[0;34m\"Parameter:\"\u001b[0m\u001b[0;34m,\u001b[0m \u001b[0mp\u001b[0m\u001b[0;34m,\u001b[0m \u001b[0;34m'\\n'\u001b[0m\u001b[0;34m)\u001b[0m\u001b[0;34m\u001b[0m\u001b[0;34m\u001b[0m\u001b[0m\n\u001b[1;32m     13\u001b[0m \u001b[0;34m\u001b[0m\u001b[0m\n\u001b[0;32m---> 14\u001b[0;31m   \u001b[0mcat1\u001b[0m \u001b[0;34m=\u001b[0m \u001b[0mdf\u001b[0m\u001b[0;34m[\u001b[0m\u001b[0;34m(\u001b[0m\u001b[0mdf\u001b[0m\u001b[0;34m.\u001b[0m\u001b[0mline\u001b[0m \u001b[0;34m==\u001b[0m \u001b[0;34m'wt-8_tracks'\u001b[0m\u001b[0;34m)\u001b[0m\u001b[0;34m]\u001b[0m\u001b[0;34m.\u001b[0m\u001b[0mPI\u001b[0m\u001b[0;34m.\u001b[0m\u001b[0mto_numpy\u001b[0m\u001b[0;34m(\u001b[0m\u001b[0;34m)\u001b[0m\u001b[0;34m\u001b[0m\u001b[0;34m\u001b[0m\u001b[0m\n\u001b[0m\u001b[1;32m     15\u001b[0m   \u001b[0mprint\u001b[0m\u001b[0;34m(\u001b[0m\u001b[0mcat1\u001b[0m\u001b[0;34m)\u001b[0m\u001b[0;34m\u001b[0m\u001b[0;34m\u001b[0m\u001b[0m\n\u001b[1;32m     16\u001b[0m   \u001b[0mcat2\u001b[0m \u001b[0;34m=\u001b[0m \u001b[0mdf\u001b[0m\u001b[0;34m[\u001b[0m\u001b[0;34m(\u001b[0m\u001b[0mdf\u001b[0m\u001b[0;34m.\u001b[0m\u001b[0mline\u001b[0m \u001b[0;34m==\u001b[0m \u001b[0;34m'ilp7ko-8tracks2'\u001b[0m\u001b[0;34m)\u001b[0m\u001b[0;34m]\u001b[0m\u001b[0;34m.\u001b[0m\u001b[0mPI\u001b[0m\u001b[0;34m.\u001b[0m\u001b[0mto_numpy\u001b[0m\u001b[0;34m(\u001b[0m\u001b[0;34m)\u001b[0m\u001b[0;34m\u001b[0m\u001b[0;34m\u001b[0m\u001b[0m\n",
            "\u001b[0;31mNameError\u001b[0m: name 'df' is not defined"
          ]
        }
      ]
    }
  ]
}